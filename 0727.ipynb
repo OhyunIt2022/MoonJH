{
  "nbformat": 4,
  "nbformat_minor": 0,
  "metadata": {
    "colab": {
      "name": "0727.ipynb",
      "provenance": []
    },
    "kernelspec": {
      "name": "python3",
      "display_name": "Python 3"
    },
    "language_info": {
      "name": "python"
    }
  },
  "cells": [
    {
      "cell_type": "code",
      "source": [
        "while True:\n",
        "    # 입력값 받기\n",
        "    사칙연산 = input(\"사칙연산 기호(+ - * /)를 입력해주세요\")\n",
        "    첫번째숫자 = int(input(\"첫번째숫자를 입력해주세요\"))\n",
        "    두번째숫자 = int(input(\"두번째숫자를 입력해주세요\"))\n",
        "    # 계산 및 출력\n",
        "    if 사칙연산==\"+\":\n",
        "        print(\"더하기입니다.\")\n",
        "        print(첫번째숫자+두번째숫자)\n",
        "    elif 사칙연산==\"-\":\n",
        "        print(\"빼기입니다.\")\n",
        "        print(첫번째숫자-두번째숫자)\n",
        "    elif 사칙연산==\"*\":\n",
        "        print(\"곱하기입니다.\")\n",
        "        print(첫번째숫자*두번째숫자)\n",
        "    elif 사칙연산==\"/\":\n",
        "        print(\"나누기입니다.\")\n",
        "        print(첫번째숫자/두번째숫자)\n",
        "    # 종료 여부 확인 후 종료\n",
        "    종료여부 = input(\"종료하려면 1을 입력해주세요\")\n",
        "    if 종료여부==\"1\":\n",
        "        print(\"종료합니다.\")\n",
        "        break"
      ],
      "metadata": {
        "id": "1a8Cs_YUvfwN"
      },
      "execution_count": null,
      "outputs": []
    },
    {
      "cell_type": "code",
      "source": [
        "#함수 만들기, 함수정의, 함수선언\n",
        "def hello():\n",
        "  print(\"안녕하세요\")"
      ],
      "metadata": {
        "id": "eTdpNcImHTQR"
      },
      "execution_count": null,
      "outputs": []
    },
    {
      "cell_type": "code",
      "source": [
        "hello()"
      ],
      "metadata": {
        "colab": {
          "base_uri": "https://localhost:8080/"
        },
        "id": "0zW16o9fLi0I",
        "outputId": "2c4bfa41-e10c-4d1a-d2f4-939b20695463"
      },
      "execution_count": null,
      "outputs": [
        {
          "output_type": "stream",
          "name": "stdout",
          "text": [
            "안녕하세요\n"
          ]
        }
      ]
    },
    {
      "cell_type": "code",
      "source": [
        "def helloToname(name):\n",
        "  print(name,\"님 안녕하세요\")"
      ],
      "metadata": {
        "id": "9ec8C-rxLoDG"
      },
      "execution_count": null,
      "outputs": []
    },
    {
      "cell_type": "code",
      "source": [
        "helloToname(\"문지혁\")"
      ],
      "metadata": {
        "colab": {
          "base_uri": "https://localhost:8080/"
        },
        "id": "1nzoZdYzLu91",
        "outputId": "8b76a421-c236-4513-b525-f29964207220"
      },
      "execution_count": null,
      "outputs": [
        {
          "output_type": "stream",
          "name": "stdout",
          "text": [
            "문지혁 님 안녕하세요\n"
          ]
        }
      ]
    },
    {
      "cell_type": "code",
      "source": [
        "def add(num,num2):\n",
        "  result = num+num2"
      ],
      "metadata": {
        "id": "EOfDer8lMBJF"
      },
      "execution_count": null,
      "outputs": []
    },
    {
      "cell_type": "code",
      "source": [
        "add(1,2)"
      ],
      "metadata": {
        "id": "C_V4q-iRMIFT"
      },
      "execution_count": null,
      "outputs": []
    },
    {
      "cell_type": "code",
      "source": [
        "addResult = add(1,2)\n"
      ],
      "metadata": {
        "id": "jRvpIdZ2MSEZ"
      },
      "execution_count": null,
      "outputs": []
    },
    {
      "cell_type": "code",
      "source": [
        "print(addResult)"
      ],
      "metadata": {
        "colab": {
          "base_uri": "https://localhost:8080/"
        },
        "id": "fhq9mU_8MT6v",
        "outputId": "3ae5be28-9436-4425-84f8-e1e1b0f87f82"
      },
      "execution_count": null,
      "outputs": [
        {
          "output_type": "stream",
          "name": "stdout",
          "text": [
            "None\n"
          ]
        }
      ]
    },
    {
      "cell_type": "code",
      "source": [
        "def add3(num,num2):\n",
        "  result = num+num2\n",
        "  return result #리턴 뒤에 잇는건 실행되지않는다\n",
        "  print(\"Hi\")\n",
        "add3(1,2)"
      ],
      "metadata": {
        "colab": {
          "base_uri": "https://localhost:8080/"
        },
        "id": "_M2dizcPMgxB",
        "outputId": "9706591c-88eb-4a4a-f8a0-72c0b44fec44"
      },
      "execution_count": null,
      "outputs": [
        {
          "output_type": "execute_result",
          "data": {
            "text/plain": [
              "3"
            ]
          },
          "metadata": {},
          "execution_count": 27
        }
      ]
    },
    {
      "cell_type": "code",
      "source": [
        ""
      ],
      "metadata": {
        "id": "U2mtOvn9jIe7"
      },
      "execution_count": null,
      "outputs": []
    },
    {
      "cell_type": "code",
      "source": [
        "ㅇaddResult2 = add2(1,2)\n",
        "print(addResult2)"
      ],
      "metadata": {
        "colab": {
          "base_uri": "https://localhost:8080/"
        },
        "id": "6VE7jGoqMlhl",
        "outputId": "7642d2f0-7565-4caa-c191-d962aa1f42e4"
      },
      "execution_count": null,
      "outputs": [
        {
          "output_type": "stream",
          "name": "stdout",
          "text": [
            "3\n"
          ]
        }
      ]
    },
    {
      "cell_type": "code",
      "source": [
        "def 덧셈출력(첫번째수, 두번째수):\n",
        "  덧셈결과 = 첫번째수 + 두번째수\n",
        "  print()"
      ],
      "metadata": {
        "id": "qIyVMTIXNZ-C"
      },
      "execution_count": null,
      "outputs": []
    },
    {
      "cell_type": "code",
      "source": [
        "def x빼기y(y, x):\n",
        "  뺄셈결과 = x - y\n",
        "  print(뺄셈결과)\n",
        "x빼기y(20, 10)\n",
        "x빼기y(x=20, y=10)"
      ],
      "metadata": {
        "colab": {
          "base_uri": "https://localhost:8080/"
        },
        "id": "BS6AsKh-OL7e",
        "outputId": "8d7a2f1c-a57a-42ec-e128-35060bc76a98"
      },
      "execution_count": null,
      "outputs": [
        {
          "output_type": "stream",
          "name": "stdout",
          "text": [
            "-10\n",
            "10\n"
          ]
        }
      ]
    },
    {
      "cell_type": "code",
      "source": [
        "#튜플은 이와같이 동시에 할당가능\n",
        "튜플값1, 튜플값2 = (1,2)\n",
        "print(튜플값1)\n",
        " "
      ],
      "metadata": {
        "colab": {
          "base_uri": "https://localhost:8080/"
        },
        "id": "vDtjjSluTa1k",
        "outputId": "fd04162a-fdcf-4abe-e53f-1e01d07911a9"
      },
      "execution_count": null,
      "outputs": [
        {
          "output_type": "stream",
          "name": "stdout",
          "text": [
            "1\n"
          ]
        }
      ]
    },
    {
      "cell_type": "code",
      "source": [
        "def 덧셈뺄셈(x,y):\n",
        "  덧셈결과 = x+y\n",
        "  뺄셈결과 = x-y\n",
        "  return 덧셈결과, 뺄셈결과\n",
        "\n",
        "함수실행결과 = 덧셈뺄셈(20,10)#함수실행결과 = (30, 10)\n",
        "print(함수실행결과)\n",
        "print(type(함수실행결과))\n",
        "print(함수실행결과[0],함수실행결과[1])\n",
        "덧셈결과 = 함수실행결과[0]\n",
        "뺄셈결과 = 함수실행결과[1]\n",
        "print(덧셈결과)\n",
        "print(뺄셈결과)"
      ],
      "metadata": {
        "colab": {
          "base_uri": "https://localhost:8080/"
        },
        "id": "hNz0oXnckaEv",
        "outputId": "12acd06b-50e7-41ae-faf9-68a2291b0159"
      },
      "execution_count": null,
      "outputs": [
        {
          "output_type": "stream",
          "name": "stdout",
          "text": [
            "(30, 10)\n",
            "<class 'tuple'>\n",
            "30 10\n",
            "30\n",
            "10\n"
          ]
        }
      ]
    },
    {
      "cell_type": "code",
      "source": [
        "def 값입력하기():\n",
        "  사칙연산 = input(\"사칙연산 기호 (+,-,*,/)를 입력해주세요\")\n",
        "  첫번째숫자 = int(input(\"첫번째숫자를 입력해주세요\"))\n",
        "  두번째숫자 = int(input(\"두번째숫자를 입력해주세요\"))\n",
        "  return 사칙연산, 첫번째숫자, 두번째숫자"
      ],
      "metadata": {
        "id": "QreU3U1IVwp4"
      },
      "execution_count": null,
      "outputs": []
    },
    {
      "cell_type": "code",
      "source": [
        "사칙연산, 첫번째숫자, 두번째숫자 = 값입력하기()\n",
        "print(사칙연산, 첫번째숫자, 두번째숫자)"
      ],
      "metadata": {
        "id": "CzuPlugZWcr1"
      },
      "execution_count": null,
      "outputs": []
    },
    {
      "cell_type": "code",
      "source": [
        "def 계산및출력(사칙연산, 첫번째숫자, 두번째숫자):\n",
        "  if 사칙연산=="
      ],
      "metadata": {
        "id": "algJbz3AWnrF"
      },
      "execution_count": null,
      "outputs": []
    },
    {
      "cell_type": "code",
      "source": [
        "def 계산및출력(사칙연산, 첫번째숫자, 두번째숫자):\n",
        "    if 사칙연산==\"+\":\n",
        "        print(\"더하기입니다.\")\n",
        "        print(첫번째숫자+두번째숫자)\n",
        "    elif 사칙연산==\"-\":\n",
        "        print(\"빼기입니다.\")\n",
        "        print(첫번째숫자-두번째숫자)\n",
        "    elif 사칙연산==\"*\":\n",
        "        print(\"곱하기입니다.\")\n",
        "        print(첫번째숫자*두번째숫자)\n",
        "    elif 사칙연산==\"/\":\n",
        "        print(\"나누기입니다.\")\n",
        "        print(첫번째숫자/두번째숫자) #함수가 설정은 됫으나 실행이 아직 안되서 출력이 안됨.\n"
      ],
      "metadata": {
        "id": "Awbv4onI018o"
      },
      "execution_count": null,
      "outputs": []
    },
    {
      "cell_type": "code",
      "source": [
        "계산및출력(사칙연산=\"+\",첫번째숫자=5,두번째숫자=7)"
      ],
      "metadata": {
        "colab": {
          "base_uri": "https://localhost:8080/"
        },
        "id": "1H4j48A8XXQ4",
        "outputId": "154865f4-e90c-478e-c208-fe29036e142c"
      },
      "execution_count": null,
      "outputs": [
        {
          "output_type": "stream",
          "name": "stdout",
          "text": [
            "더하기입니다.\n",
            "12\n"
          ]
        }
      ]
    },
    {
      "cell_type": "code",
      "source": [
        "def 종료여부확인():\n",
        "  종료여부 = input(\"종료할려면 1을 입력해라\")\n",
        "  return 종료여부 == \"1\""
      ],
      "metadata": {
        "id": "oU0gFnunXydN"
      },
      "execution_count": null,
      "outputs": []
    },
    {
      "cell_type": "code",
      "source": [
        "종료여부확인()"
      ],
      "metadata": {
        "id": "wjr6JyqNX5e4"
      },
      "execution_count": null,
      "outputs": []
    },
    {
      "cell_type": "code",
      "source": [
        "while True:\n",
        "  기호, 첫번째숫자, 두번째숫자 = 값입력하기()\n",
        "  계산및출력(기호, 첫번째숫자, 두번째숫자)\n",
        "  종료여부 = 종료여부확인\n",
        "  if 종료여부:\n",
        "    break"
      ],
      "metadata": {
        "colab": {
          "base_uri": "https://localhost:8080/",
          "height": 138
        },
        "id": "cJ5Q8-k-YTXy",
        "outputId": "a5bdb290-083f-4acf-c1cd-a631df4380b4"
      },
      "execution_count": null,
      "outputs": [
        {
          "output_type": "error",
          "ename": "SyntaxError",
          "evalue": "ignored",
          "traceback": [
            "\u001b[0;36m  File \u001b[0;32m\"<ipython-input-67-d159c036b34f>\"\u001b[0;36m, line \u001b[0;32m1\u001b[0m\n\u001b[0;31m    def 계산기()\u001b[0m\n\u001b[0m             ^\u001b[0m\n\u001b[0;31mSyntaxError\u001b[0m\u001b[0;31m:\u001b[0m invalid syntax\n"
          ]
        }
      ]
    },
    {
      "cell_type": "code",
      "source": [
        "계산기()"
      ],
      "metadata": {
        "id": "Mj0SkULaaI_s"
      },
      "execution_count": null,
      "outputs": []
    },
    {
      "cell_type": "code",
      "source": [
        "string = \"hellow\"\n",
        "print(type(string))"
      ],
      "metadata": {
        "colab": {
          "base_uri": "https://localhost:8080/"
        },
        "id": "r0tG1PbpjJ_s",
        "outputId": "c875a238-843d-4349-f8f1-43b1717ee23d"
      },
      "execution_count": 89,
      "outputs": [
        {
          "output_type": "stream",
          "name": "stdout",
          "text": [
            "<class 'str'>\n"
          ]
        }
      ]
    },
    {
      "cell_type": "markdown",
      "source": [
        "https://colab.research.google.com/drive/1UsNaMfwlohCrMmT4rnmlRyYgUKMB4z2j 참고용 링크"
      ],
      "metadata": {
        "id": "4Ej9N0wkjXCO"
      }
    },
    {
      "cell_type": "code",
      "source": [
        "class Animal:\n",
        "  kor=\"동물\"\n",
        "  def 숨쉬기(self):\n",
        "    print(\"숨을 쉽니다\")\n",
        "  def 움직이기(self):\n",
        "    print(\"몸을 움직입니다\")\n",
        "  def 말하기(self,문장):\n",
        "    print(문장) \n",
        "animal=Animal()\n",
        "animal.숨쉬기()\n",
        "animal.움직이기()\n",
        "animal.말하기(\"안녕하세요\")\n",
        "print(animal.kor)"
      ],
      "metadata": {
        "colab": {
          "base_uri": "https://localhost:8080/"
        },
        "id": "gPzKElkqkR-j",
        "outputId": "b7366c4e-3aad-442f-c546-917de70da390"
      },
      "execution_count": 106,
      "outputs": [
        {
          "output_type": "stream",
          "name": "stdout",
          "text": [
            "숨을 쉽니다\n",
            "몸을 움직입니다\n",
            "안녕하세요\n",
            "동물\n"
          ]
        }
      ]
    },
    {
      "cell_type": "code",
      "source": [
        ""
      ],
      "metadata": {
        "id": "Hf9CrEzJmzi7"
      },
      "execution_count": null,
      "outputs": []
    },
    {
      "cell_type": "code",
      "source": [
        "개 = Animal()\n",
        "print(type(개))\n",
        "Animal.숨쉬기()\n",
        "Animal.움직이기()\n",
        "print(\"==========\")\n",
        "개.숨쉬기()\n",
        "개.움직이기()"
      ],
      "metadata": {
        "colab": {
          "base_uri": "https://localhost:8080/",
          "height": 269
        },
        "id": "NdVB2dmskWr8",
        "outputId": "badf2589-afc0-4b42-d538-14b784ecd799"
      },
      "execution_count": 107,
      "outputs": [
        {
          "output_type": "stream",
          "name": "stdout",
          "text": [
            "<class '__main__.Animal'>\n"
          ]
        },
        {
          "output_type": "error",
          "ename": "TypeError",
          "evalue": "ignored",
          "traceback": [
            "\u001b[0;31m---------------------------------------------------------------------------\u001b[0m",
            "\u001b[0;31mTypeError\u001b[0m                                 Traceback (most recent call last)",
            "\u001b[0;32m<ipython-input-107-ed984f74e676>\u001b[0m in \u001b[0;36m<module>\u001b[0;34m()\u001b[0m\n\u001b[1;32m      1\u001b[0m \u001b[0m개\u001b[0m \u001b[0;34m=\u001b[0m \u001b[0mAnimal\u001b[0m\u001b[0;34m(\u001b[0m\u001b[0;34m)\u001b[0m\u001b[0;34m\u001b[0m\u001b[0;34m\u001b[0m\u001b[0m\n\u001b[1;32m      2\u001b[0m \u001b[0mprint\u001b[0m\u001b[0;34m(\u001b[0m\u001b[0mtype\u001b[0m\u001b[0;34m(\u001b[0m\u001b[0m개\u001b[0m\u001b[0;34m)\u001b[0m\u001b[0;34m)\u001b[0m\u001b[0;34m\u001b[0m\u001b[0;34m\u001b[0m\u001b[0m\n\u001b[0;32m----> 3\u001b[0;31m \u001b[0mAnimal\u001b[0m\u001b[0;34m.\u001b[0m\u001b[0m숨쉬기\u001b[0m\u001b[0;34m(\u001b[0m\u001b[0;34m)\u001b[0m\u001b[0;34m\u001b[0m\u001b[0;34m\u001b[0m\u001b[0m\n\u001b[0m\u001b[1;32m      4\u001b[0m \u001b[0mAnimal\u001b[0m\u001b[0;34m.\u001b[0m\u001b[0m움직이기\u001b[0m\u001b[0;34m(\u001b[0m\u001b[0;34m)\u001b[0m\u001b[0;34m\u001b[0m\u001b[0;34m\u001b[0m\u001b[0m\n\u001b[1;32m      5\u001b[0m \u001b[0mprint\u001b[0m\u001b[0;34m(\u001b[0m\u001b[0;34m\"==========\"\u001b[0m\u001b[0;34m)\u001b[0m\u001b[0;34m\u001b[0m\u001b[0;34m\u001b[0m\u001b[0m\n",
            "\u001b[0;31mTypeError\u001b[0m: 숨쉬기() missing 1 required positional argument: 'self'"
          ]
        }
      ]
    },
    {
      "cell_type": "code",
      "source": [
        "class Animal:\n",
        "  pass"
      ],
      "metadata": {
        "id": "mJcKOzsAlVg3"
      },
      "execution_count": 108,
      "outputs": []
    },
    {
      "cell_type": "code",
      "source": [
        "class Animal:\n",
        "  kor=\"동물\"\n",
        "  def __init__(self):\n",
        "    print(\"태어났습니다\")\n",
        "  def 숨쉬기(self):\n",
        "    print(\"숨을 쉽니다\")\n",
        "  def 움직이기(self):\n",
        "    print(\"몸을 움직입니다\")\n",
        "  def 말하기(self,문장):\n",
        "    print(문장)\n",
        "  def __del__(self):\n",
        "    print(\"죽었습니다\")\n",
        "animal=Animal()\n",
        "print(\"===================\")\n",
        "del animal"
      ],
      "metadata": {
        "colab": {
          "base_uri": "https://localhost:8080/"
        },
        "outputId": "b4c2f0b6-1a31-4a1a-b6dd-6c373338a905",
        "id": "DECDAxnSm-NS"
      },
      "execution_count": 112,
      "outputs": [
        {
          "output_type": "stream",
          "name": "stdout",
          "text": [
            "태어났습니다\n",
            "===================\n",
            "죽었습니다\n"
          ]
        }
      ]
    },
    {
      "cell_type": "code",
      "source": [
        "class Animal:\n",
        "    def __init__(self,키,생일):\n",
        "        self.키 = 키\n",
        "        self.생일 = 생일\n",
        "        print(\"태어났습니다\")\n",
        "    def 키얻기(self):\n",
        "        print(f\"키는 {self.키}cm 입니다\")\n",
        "    def 생일얻기(self):\n",
        "        print(f\"생일은 {self.생일} 입니다\")\n",
        "    def 숨쉬기(self):\n",
        "        print(\"숨을 쉽니다\")\n",
        "    def 움직이기(self):\n",
        "        print(\"몸을 움직입니다\")\n",
        "    def 말하기(self, 문장):\n",
        "        print(문장)\n",
        "    def __del__(self):\n",
        "        print(\"죽었습니다.\")"
      ],
      "metadata": {
        "id": "Pwi7TAOu8t4L"
      },
      "execution_count": 117,
      "outputs": []
    },
    {
      "cell_type": "code",
      "source": [
        "animal = Animal(키=30, 생일=20220219)\n",
        "print(animal.키) #self 키가 이 애니멀이 뭔지에 대해 설명해줌\n",
        "animal.키얻기()"
      ],
      "metadata": {
        "colab": {
          "base_uri": "https://localhost:8080/"
        },
        "id": "DeWw-vjgpZs-",
        "outputId": "6dbc8eee-5005-45c8-fd2c-e4c831f4cd6b"
      },
      "execution_count": 119,
      "outputs": [
        {
          "output_type": "stream",
          "name": "stdout",
          "text": [
            "태어났습니다\n",
            "30\n",
            "키는 30cm 입니다\n"
          ]
        }
      ]
    },
    {
      "cell_type": "code",
      "source": [
        "dir(animal)"
      ],
      "metadata": {
        "id": "9B28ek4BqlMv"
      },
      "execution_count": null,
      "outputs": []
    },
    {
      "cell_type": "code",
      "source": [
        "print(type(animal.말하기))"
      ],
      "metadata": {
        "colab": {
          "base_uri": "https://localhost:8080/"
        },
        "id": "EH0gQgETq4qj",
        "outputId": "33818b5e-c213-4eda-c018-da8e04a52d1d"
      },
      "execution_count": 123,
      "outputs": [
        {
          "output_type": "stream",
          "name": "stdout",
          "text": [
            "<class 'method'>\n"
          ]
        }
      ]
    },
    {
      "cell_type": "code",
      "source": [
        "class 개(Animal):\n",
        "  def 짖기(self):\n",
        "    print(\"멍\")"
      ],
      "metadata": {
        "id": "WJ6m4AMArGPP"
      },
      "execution_count": 128,
      "outputs": []
    },
    {
      "cell_type": "code",
      "source": [
        "요크셔 = 개(키=30, 생일=\"오늘\")\n",
        "요크셔.짖기()"
      ],
      "metadata": {
        "colab": {
          "base_uri": "https://localhost:8080/"
        },
        "id": "bdaauLcQrUsV",
        "outputId": "fa96dde9-bf68-49dd-b904-ee1190aa35c6"
      },
      "execution_count": 138,
      "outputs": [
        {
          "output_type": "stream",
          "name": "stdout",
          "text": [
            "태어났습니다\n",
            "멍\n"
          ]
        }
      ]
    },
    {
      "cell_type": "code",
      "source": [
        "요크셔.키얻기()"
      ],
      "metadata": {
        "colab": {
          "base_uri": "https://localhost:8080/"
        },
        "id": "y4eHoPIMrkOS",
        "outputId": "991d33f6-869c-4371-f77e-5dd127b2968a"
      },
      "execution_count": 139,
      "outputs": [
        {
          "output_type": "stream",
          "name": "stdout",
          "text": [
            "키는 30cm 입니다\n"
          ]
        }
      ]
    },
    {
      "cell_type": "code",
      "source": [
        "del 요크셔테리어는살아있다"
      ],
      "metadata": {
        "id": "_IcjvNHor5WZ"
      },
      "execution_count": null,
      "outputs": []
    }
  ]
}