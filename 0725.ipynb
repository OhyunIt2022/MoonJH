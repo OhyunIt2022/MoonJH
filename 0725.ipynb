{
  "nbformat": 4,
  "nbformat_minor": 0,
  "metadata": {
    "colab": {
      "name": "0725.ipynb",
      "provenance": [],
      "collapsed_sections": []
    },
    "kernelspec": {
      "name": "python3",
      "display_name": "Python 3"
    },
    "language_info": {
      "name": "python"
    }
  },
  "cells": [
    {
      "cell_type": "code",
      "source": [
        "배열  = [1,2,3,4,5]\n"
      ],
      "metadata": {
        "id": "xbhh-H7yzAT-"
      },
      "execution_count": null,
      "outputs": []
    },
    {
      "cell_type": "code",
      "source": [
        "print(배열)"
      ],
      "metadata": {
        "colab": {
          "base_uri": "https://localhost:8080/"
        },
        "id": "5EJycAj70Q-4",
        "outputId": "4ce231cb-e792-49a2-d957-49f4fae127ef"
      },
      "execution_count": null,
      "outputs": [
        {
          "output_type": "stream",
          "name": "stdout",
          "text": [
            "[1, 2, 3, 4, 5]\n"
          ]
        }
      ]
    },
    {
      "cell_type": "code",
      "source": [
        "# 6을 추가하고싶다\n",
        "배열.append(6)"
      ],
      "metadata": {
        "id": "l2no-bGB0akZ"
      },
      "execution_count": null,
      "outputs": []
    },
    {
      "cell_type": "code",
      "source": [
        "print(배열)"
      ],
      "metadata": {
        "colab": {
          "base_uri": "https://localhost:8080/"
        },
        "id": "OcZSI_ZF0eHI",
        "outputId": "1800f07d-118d-493b-9d2e-6b493f45251c"
      },
      "execution_count": null,
      "outputs": [
        {
          "output_type": "stream",
          "name": "stdout",
          "text": [
            "[1, 2, 3, 4, 5, 6]\n"
          ]
        }
      ]
    },
    {
      "cell_type": "code",
      "source": [
        "배열.append(7,8)\n",
        "# 배열은 하나에 하나씩만 가능 (이렇게하면 오류걸림)"
      ],
      "metadata": {
        "id": "gO6of3db0ljM"
      },
      "execution_count": null,
      "outputs": []
    },
    {
      "cell_type": "code",
      "source": [
        "배열.append([1,2])\n"
      ],
      "metadata": {
        "id": "MbUWnqKz0s-O"
      },
      "execution_count": null,
      "outputs": []
    },
    {
      "cell_type": "code",
      "source": [
        "print(배열)"
      ],
      "metadata": {
        "colab": {
          "base_uri": "https://localhost:8080/"
        },
        "id": "wTFXb4Rk0zeK",
        "outputId": "0ce01e25-daee-485f-b341-2bb0981009fe"
      },
      "execution_count": null,
      "outputs": [
        {
          "output_type": "stream",
          "name": "stdout",
          "text": [
            "[1, 2, 3, 4, 5, 6, [1, 2], [1, 2]]\n"
          ]
        }
      ]
    },
    {
      "cell_type": "code",
      "source": [
        "dir(배열)"
      ],
      "metadata": {
        "colab": {
          "base_uri": "https://localhost:8080/"
        },
        "id": "H4kJDO8F08zK",
        "outputId": "cdf24539-f469-43f6-cb0f-cbd4f90e7a30"
      },
      "execution_count": null,
      "outputs": [
        {
          "output_type": "execute_result",
          "data": {
            "text/plain": [
              "['__add__',\n",
              " '__class__',\n",
              " '__contains__',\n",
              " '__delattr__',\n",
              " '__delitem__',\n",
              " '__dir__',\n",
              " '__doc__',\n",
              " '__eq__',\n",
              " '__format__',\n",
              " '__ge__',\n",
              " '__getattribute__',\n",
              " '__getitem__',\n",
              " '__gt__',\n",
              " '__hash__',\n",
              " '__iadd__',\n",
              " '__imul__',\n",
              " '__init__',\n",
              " '__init_subclass__',\n",
              " '__iter__',\n",
              " '__le__',\n",
              " '__len__',\n",
              " '__lt__',\n",
              " '__mul__',\n",
              " '__ne__',\n",
              " '__new__',\n",
              " '__reduce__',\n",
              " '__reduce_ex__',\n",
              " '__repr__',\n",
              " '__reversed__',\n",
              " '__rmul__',\n",
              " '__setattr__',\n",
              " '__setitem__',\n",
              " '__sizeof__',\n",
              " '__str__',\n",
              " '__subclasshook__',\n",
              " 'append',\n",
              " 'clear',\n",
              " 'copy',\n",
              " 'count',\n",
              " 'extend',\n",
              " 'index',\n",
              " 'insert',\n",
              " 'pop',\n",
              " 'remove',\n",
              " 'reverse',\n",
              " 'sort']"
            ]
          },
          "metadata": {},
          "execution_count": 21
        }
      ]
    },
    {
      "cell_type": "code",
      "source": [
        "배열2 = [3,10,19,100,1,17]"
      ],
      "metadata": {
        "id": "0XtOWpEd1n3k"
      },
      "execution_count": null,
      "outputs": []
    },
    {
      "cell_type": "code",
      "source": [
        "배열2.sort()\n",
        "# 순서대로 정렬을 해줌"
      ],
      "metadata": {
        "id": "27cU1zzi1ycA"
      },
      "execution_count": null,
      "outputs": []
    },
    {
      "cell_type": "code",
      "source": [
        "print(배열2)"
      ],
      "metadata": {
        "colab": {
          "base_uri": "https://localhost:8080/"
        },
        "id": "6R_wxGgU13Yi",
        "outputId": "48fb8466-628f-4d3c-b2f1-e68a41ae4fd4"
      },
      "execution_count": null,
      "outputs": [
        {
          "output_type": "stream",
          "name": "stdout",
          "text": [
            "[1, 3, 10, 17, 19, 100]\n"
          ]
        }
      ]
    },
    {
      "cell_type": "code",
      "source": [
        "문자열배열 = ['z', 'c', 'd', '가', '다', '나']\n",
        "print(문자열배열)"
      ],
      "metadata": {
        "colab": {
          "base_uri": "https://localhost:8080/"
        },
        "id": "qKXZG1na2CiS",
        "outputId": "ba73025d-e381-4e5a-b6a6-5d931ae58ace"
      },
      "execution_count": null,
      "outputs": [
        {
          "output_type": "stream",
          "name": "stdout",
          "text": [
            "['z', 'c', 'd', '가', '다', '나']\n"
          ]
        }
      ]
    },
    {
      "cell_type": "code",
      "source": [
        "문자열배열.sort()\n",
        "print(문자열배열)\n",
        "# 즉 영어가 더 우선"
      ],
      "metadata": {
        "colab": {
          "base_uri": "https://localhost:8080/"
        },
        "id": "r8HZcoKM2MDz",
        "outputId": "cfa3e545-e0a6-43b7-b0ad-4b4543b302e8"
      },
      "execution_count": null,
      "outputs": [
        {
          "output_type": "stream",
          "name": "stdout",
          "text": [
            "['c', 'd', 'z', '가', '나', '다']\n"
          ]
        }
      ]
    },
    {
      "cell_type": "code",
      "source": [
        "섞인거 = [1,10,3,'b', 'c', 'd']\n",
        "print(섞인거)\n"
      ],
      "metadata": {
        "colab": {
          "base_uri": "https://localhost:8080/"
        },
        "id": "6d19J3g62UKx",
        "outputId": "f854a50b-13cb-43f9-a7c3-69dc3c1531d0"
      },
      "execution_count": null,
      "outputs": [
        {
          "output_type": "stream",
          "name": "stdout",
          "text": [
            "[1, 10, 3, 'b', 'c', 'd']\n"
          ]
        }
      ]
    },
    {
      "cell_type": "code",
      "source": [
        "섞인거.sort()\n",
        "print(섞인거)\n",
        "# 즉 숫자와 문자는 비교 불가능"
      ],
      "metadata": {
        "colab": {
          "base_uri": "https://localhost:8080/",
          "height": 213
        },
        "id": "YLt3XTNc2dyI",
        "outputId": "19e0d73f-d4a3-4a01-a244-0c5929574336"
      },
      "execution_count": null,
      "outputs": [
        {
          "output_type": "error",
          "ename": "TypeError",
          "evalue": "ignored",
          "traceback": [
            "\u001b[0;31m---------------------------------------------------------------------------\u001b[0m",
            "\u001b[0;31mTypeError\u001b[0m                                 Traceback (most recent call last)",
            "\u001b[0;32m<ipython-input-34-ac08e6de28ed>\u001b[0m in \u001b[0;36m<module>\u001b[0;34m()\u001b[0m\n\u001b[0;32m----> 1\u001b[0;31m \u001b[0m섞인거\u001b[0m\u001b[0;34m.\u001b[0m\u001b[0msort\u001b[0m\u001b[0;34m(\u001b[0m\u001b[0;34m)\u001b[0m\u001b[0;34m\u001b[0m\u001b[0;34m\u001b[0m\u001b[0m\n\u001b[0m\u001b[1;32m      2\u001b[0m \u001b[0mprint\u001b[0m\u001b[0;34m(\u001b[0m\u001b[0m섞인거\u001b[0m\u001b[0;34m)\u001b[0m\u001b[0;34m\u001b[0m\u001b[0;34m\u001b[0m\u001b[0m\n\u001b[1;32m      3\u001b[0m \u001b[0;31m# 즉 숫자와 문자는 비교 불가능\u001b[0m\u001b[0;34m\u001b[0m\u001b[0;34m\u001b[0m\u001b[0;34m\u001b[0m\u001b[0m\n",
            "\u001b[0;31mTypeError\u001b[0m: '<' not supported between instances of 'str' and 'int'"
          ]
        }
      ]
    },
    {
      "cell_type": "code",
      "source": [
        "배열3 = [5,3,10]\n",
        "print(배열3)"
      ],
      "metadata": {
        "colab": {
          "base_uri": "https://localhost:8080/"
        },
        "id": "r0Og7Ff_2h9R",
        "outputId": "742547f3-60f9-4aa3-ce84-7c252c53bfb9"
      },
      "execution_count": null,
      "outputs": [
        {
          "output_type": "stream",
          "name": "stdout",
          "text": [
            "[5, 3, 10]\n"
          ]
        }
      ]
    },
    {
      "cell_type": "code",
      "source": [
        "배열3.reverse()\n",
        "print(배열3)\n",
        "# 순서를 뒤집음"
      ],
      "metadata": {
        "colab": {
          "base_uri": "https://localhost:8080/"
        },
        "id": "Flv4qHwK2-R4",
        "outputId": "51f8386a-4069-45ab-a454-cfb442051f6d"
      },
      "execution_count": null,
      "outputs": [
        {
          "output_type": "stream",
          "name": "stdout",
          "text": [
            "[5, 3, 10]\n"
          ]
        }
      ]
    },
    {
      "cell_type": "code",
      "source": [
        "섞인거2 = [1,10,3,'b', 'c', 'd']\n",
        "print(섞인거2)"
      ],
      "metadata": {
        "colab": {
          "base_uri": "https://localhost:8080/"
        },
        "id": "yXEmnRAP3GCt",
        "outputId": "d5ace876-b4a5-4c7c-d01b-a6a79f35bfee"
      },
      "execution_count": null,
      "outputs": [
        {
          "output_type": "stream",
          "name": "stdout",
          "text": [
            "[1, 10, 3, 'b', 'c', 'd']\n"
          ]
        }
      ]
    },
    {
      "cell_type": "code",
      "source": [
        "섞인거2.reverse()\n",
        "print(섞인거2)"
      ],
      "metadata": {
        "colab": {
          "base_uri": "https://localhost:8080/"
        },
        "id": "hfTR7o7m3Ws5",
        "outputId": "ef0ca3e0-3c57-4ec0-ef9c-f752ae7b288c"
      },
      "execution_count": null,
      "outputs": [
        {
          "output_type": "stream",
          "name": "stdout",
          "text": [
            "[1, 10, 3, 'b', 'c', 'd']\n"
          ]
        }
      ]
    },
    {
      "cell_type": "code",
      "source": [
        "배열4 = [1,2,[1,2,3]]\n",
        "print(배열4)"
      ],
      "metadata": {
        "colab": {
          "base_uri": "https://localhost:8080/"
        },
        "id": "eTlRy2F03bZA",
        "outputId": "754a7498-e36b-4eee-9213-20ffa67e4fd8"
      },
      "execution_count": null,
      "outputs": [
        {
          "output_type": "stream",
          "name": "stdout",
          "text": [
            "[1, 2, [1, 2, 3]]\n"
          ]
        }
      ]
    },
    {
      "cell_type": "code",
      "source": [
        "배열4.reverse()\n",
        "print(배열4)"
      ],
      "metadata": {
        "colab": {
          "base_uri": "https://localhost:8080/"
        },
        "id": "iQgKdNnt3d5a",
        "outputId": "fd269a8f-9b87-45fd-c689-8a03e2ec0f22"
      },
      "execution_count": null,
      "outputs": [
        {
          "output_type": "stream",
          "name": "stdout",
          "text": [
            "[[1, 2, 3], 2, 1]\n"
          ]
        }
      ]
    },
    {
      "cell_type": "code",
      "source": [
        "print(배열4[0])"
      ],
      "metadata": {
        "colab": {
          "base_uri": "https://localhost:8080/"
        },
        "id": "MMkri_B43x7P",
        "outputId": "4cab2dfe-46f1-4653-886f-5723de2d3b68"
      },
      "execution_count": null,
      "outputs": [
        {
          "output_type": "stream",
          "name": "stdout",
          "text": [
            "[1, 2, 3]\n"
          ]
        }
      ]
    },
    {
      "cell_type": "code",
      "source": [
        "배열4[0].reverse()\n",
        "print(배열4[0])"
      ],
      "metadata": {
        "colab": {
          "base_uri": "https://localhost:8080/"
        },
        "id": "M2QUMaul4cXm",
        "outputId": "2002b46a-bc62-4466-e807-bbca61bc92ee"
      },
      "execution_count": null,
      "outputs": [
        {
          "output_type": "stream",
          "name": "stdout",
          "text": [
            "[3, 2, 1]\n"
          ]
        }
      ]
    },
    {
      "cell_type": "code",
      "source": [
        "print(배열4)"
      ],
      "metadata": {
        "colab": {
          "base_uri": "https://localhost:8080/"
        },
        "id": "qQVqhYdW5A1D",
        "outputId": "43697652-7550-46fd-ffd9-f0e584e4e162"
      },
      "execution_count": null,
      "outputs": [
        {
          "output_type": "stream",
          "name": "stdout",
          "text": [
            "[[3, 2, 1], 2, 1]\n"
          ]
        }
      ]
    },
    {
      "cell_type": "code",
      "source": [
        "# 배열.index(찾고자하는값)\n",
        "음식=['라면', '떡볶이', '커피', '짜장면', '파스타', '불족','피자']\n",
        "불족인덱스 = 음식.index('불족')\n",
        "print(불족인덱스)"
      ],
      "metadata": {
        "colab": {
          "base_uri": "https://localhost:8080/"
        },
        "id": "QKhuPLAv-5sf",
        "outputId": "fdee275a-33ed-445f-acf0-27586ac60daa"
      },
      "execution_count": null,
      "outputs": [
        {
          "output_type": "stream",
          "name": "stdout",
          "text": [
            "5\n"
          ]
        }
      ]
    },
    {
      "cell_type": "code",
      "source": [
        "# 배열안에 없는 값을 찾을려고하면 에러가 발생함"
      ],
      "metadata": {
        "id": "nb-s3zK5_wu_"
      },
      "execution_count": null,
      "outputs": []
    },
    {
      "cell_type": "code",
      "source": [
        "떡볶이인덱스 = 음식.index('떡볶이')\n",
        "피자인덱스 = 음식.index('피자')\n",
        "음식2= 음식[떡볶이인덱스:피자인덱스]\n",
        "print(음식2)"
      ],
      "metadata": {
        "colab": {
          "base_uri": "https://localhost:8080/"
        },
        "id": "Oe_NbPX7AXHR",
        "outputId": "e87c64bc-97ae-4c4e-8a18-df1cfc713c3d"
      },
      "execution_count": null,
      "outputs": [
        {
          "output_type": "stream",
          "name": "stdout",
          "text": [
            "['떡볶이', '커피', '짜장면', '파스타', '불족']\n"
          ]
        }
      ]
    },
    {
      "cell_type": "code",
      "source": [
        "음식.insert(불족인덱스,'소고기')\n",
        "print(음식)"
      ],
      "metadata": {
        "colab": {
          "base_uri": "https://localhost:8080/"
        },
        "id": "j4pxz9dXA_CS",
        "outputId": "e454823c-11fa-479a-bc7f-502a22ad8a9a"
      },
      "execution_count": null,
      "outputs": [
        {
          "output_type": "stream",
          "name": "stdout",
          "text": [
            "['라면', '떡볶이', '커피', '짜장면', '파스타', '소고기', '소고기', '불족', '피자']\n"
          ]
        }
      ]
    },
    {
      "cell_type": "code",
      "source": [
        "음식.pop()"
      ],
      "metadata": {
        "colab": {
          "base_uri": "https://localhost:8080/",
          "height": 36
        },
        "id": "lkAAoYsdBk4w",
        "outputId": "ac54e5f5-a0f0-4d5b-fdc5-0c849778eb76"
      },
      "execution_count": null,
      "outputs": [
        {
          "output_type": "execute_result",
          "data": {
            "text/plain": [
              "'불족'"
            ],
            "application/vnd.google.colaboratory.intrinsic+json": {
              "type": "string"
            }
          },
          "metadata": {},
          "execution_count": 77
        }
      ]
    },
    {
      "cell_type": "code",
      "source": [
        "print(음식)"
      ],
      "metadata": {
        "colab": {
          "base_uri": "https://localhost:8080/"
        },
        "id": "QDi00BOSBqtu",
        "outputId": "4dd0dcb8-a38c-4c77-e5aa-c53fd3d182b5"
      },
      "execution_count": null,
      "outputs": [
        {
          "output_type": "stream",
          "name": "stdout",
          "text": [
            "['라면', '떡볶이', '커피', '짜장면', '파스타', '소고기', '소고기']\n"
          ]
        }
      ]
    },
    {
      "cell_type": "code",
      "source": [
        "음식. pop(2)"
      ],
      "metadata": {
        "colab": {
          "base_uri": "https://localhost:8080/",
          "height": 36
        },
        "id": "gsWRG8SdBxgk",
        "outputId": "fef55246-9876-4382-f06e-34e90cdb117e"
      },
      "execution_count": null,
      "outputs": [
        {
          "output_type": "execute_result",
          "data": {
            "text/plain": [
              "'짜장면'"
            ],
            "application/vnd.google.colaboratory.intrinsic+json": {
              "type": "string"
            }
          },
          "metadata": {},
          "execution_count": 83
        }
      ]
    },
    {
      "cell_type": "code",
      "source": [
        "print(음식2)"
      ],
      "metadata": {
        "colab": {
          "base_uri": "https://localhost:8080/"
        },
        "id": "OwA2NuahB35Q",
        "outputId": "b410a8fd-b432-454e-fd92-1b7a1e6bc4c5"
      },
      "execution_count": null,
      "outputs": [
        {
          "output_type": "stream",
          "name": "stdout",
          "text": [
            "['떡볶이', '커피', '짜장면', '파스타', '불족']\n"
          ]
        }
      ]
    },
    {
      "cell_type": "code",
      "source": [
        "음식2.remove('불족')"
      ],
      "metadata": {
        "id": "fj-FX_wgCNR-"
      },
      "execution_count": null,
      "outputs": []
    },
    {
      "cell_type": "code",
      "source": [
        "print(음식2)"
      ],
      "metadata": {
        "colab": {
          "base_uri": "https://localhost:8080/"
        },
        "id": "he64HYUuCZFI",
        "outputId": "2a1899a1-898d-4645-fbb3-8e9c10446e41"
      },
      "execution_count": null,
      "outputs": [
        {
          "output_type": "stream",
          "name": "stdout",
          "text": [
            "['떡볶이', '커피', '짜장면', '파스타']\n"
          ]
        }
      ]
    },
    {
      "cell_type": "code",
      "source": [
        "배열5 = [1,1,1,2,3,4,4,'하이','하이']\n",
        "하이개수 = 배열5.count('하이')\n",
        "print(하이개수)\n",
        "one = 배열5.count(1)"
      ],
      "metadata": {
        "colab": {
          "base_uri": "https://localhost:8080/"
        },
        "id": "DmKyqNEFDQAb",
        "outputId": "5b17a305-80ca-4fb4-a9e8-d61c03d66965"
      },
      "execution_count": null,
      "outputs": [
        {
          "output_type": "stream",
          "name": "stdout",
          "text": [
            "2\n"
          ]
        }
      ]
    },
    {
      "cell_type": "code",
      "source": [
        "print(one)"
      ],
      "metadata": {
        "colab": {
          "base_uri": "https://localhost:8080/"
        },
        "id": "r00vIGpLDgoC",
        "outputId": "b0013925-53c3-4c63-e63d-c6d7c846ab50"
      },
      "execution_count": null,
      "outputs": [
        {
          "output_type": "stream",
          "name": "stdout",
          "text": [
            "3\n"
          ]
        }
      ]
    },
    {
      "cell_type": "code",
      "source": [
        "없는거 = 배열5.count('집행검')\n",
        "print(없는거)"
      ],
      "metadata": {
        "colab": {
          "base_uri": "https://localhost:8080/"
        },
        "id": "JJe5HEdXD21z",
        "outputId": "0b694f61-e9cc-4a83-a5ec-32487237c207"
      },
      "execution_count": null,
      "outputs": [
        {
          "output_type": "stream",
          "name": "stdout",
          "text": [
            "0\n"
          ]
        }
      ]
    },
    {
      "cell_type": "code",
      "source": [
        "배열6 = [1,2,3]\n",
        "배열7 = [4,5,6]\n",
        "배열6.extend(배열7)\n",
        "print(배열6)\n",
        "print(배열7, \"배열7\")"
      ],
      "metadata": {
        "colab": {
          "base_uri": "https://localhost:8080/"
        },
        "id": "d4kqxq8zD9Fx",
        "outputId": "96e1a728-7102-457a-fb32-0adc769c7ea5"
      },
      "execution_count": null,
      "outputs": [
        {
          "output_type": "stream",
          "name": "stdout",
          "text": [
            "[1, 2, 3, 4, 5, 6]\n",
            "[4, 5, 6] 배열7\n"
          ]
        }
      ]
    },
    {
      "cell_type": "code",
      "source": [
        "배열8 = [1,2,3]\n",
        "배열9 = 배열8.copy()\n",
        "print(배열8)\n",
        "print(배열9)\n",
        "배열9[0] = 10\n",
        "print(배열8)\n",
        "print(배열9)"
      ],
      "metadata": {
        "colab": {
          "base_uri": "https://localhost:8080/"
        },
        "id": "y7kTtmfjFWzQ",
        "outputId": "4af49482-906b-4197-d723-ebc778acb4c9"
      },
      "execution_count": null,
      "outputs": [
        {
          "output_type": "stream",
          "name": "stdout",
          "text": [
            "[1, 2, 3]\n",
            "[1, 2, 3]\n",
            "[1, 2, 3]\n",
            "[10, 2, 3]\n"
          ]
        }
      ]
    },
    {
      "cell_type": "code",
      "source": [
        "배열10 = [1,2,3,4,5]\n",
        "print(배열10)\n",
        "배열10.clear()\n",
        "print(배열10)"
      ],
      "metadata": {
        "colab": {
          "base_uri": "https://localhost:8080/"
        },
        "id": "bhOpBRjIFX2K",
        "outputId": "942c3aef-cfde-42ce-cd87-1d8b11ab9af4"
      },
      "execution_count": null,
      "outputs": [
        {
          "output_type": "stream",
          "name": "stdout",
          "text": [
            "[1, 2, 3, 4, 5]\n",
            "[]\n"
          ]
        }
      ]
    },
    {
      "cell_type": "code",
      "source": [
        "튜플 = (1,2,3)\n",
        "print(튜플)"
      ],
      "metadata": {
        "colab": {
          "base_uri": "https://localhost:8080/"
        },
        "id": "EyDArNqFHpa6",
        "outputId": "e289caa1-74bb-494d-b362-4b5d3f8ea322"
      },
      "execution_count": null,
      "outputs": [
        {
          "output_type": "stream",
          "name": "stdout",
          "text": [
            "(1, 2, 3)\n"
          ]
        }
      ]
    },
    {
      "cell_type": "code",
      "source": [
        "print(튜플[0])"
      ],
      "metadata": {
        "colab": {
          "base_uri": "https://localhost:8080/"
        },
        "id": "7HfUSo-cHv0W",
        "outputId": "d72f7216-89e4-4cbc-de5b-64df7eaf6060"
      },
      "execution_count": null,
      "outputs": [
        {
          "output_type": "stream",
          "name": "stdout",
          "text": [
            "1\n"
          ]
        }
      ]
    },
    {
      "cell_type": "code",
      "source": [
        "샘플배열 = [1,2,3]\n",
        "print(샘플배열)\n",
        "del 샘플배열[0]  #del은 삭제\n",
        "print(샘플배열)"
      ],
      "metadata": {
        "colab": {
          "base_uri": "https://localhost:8080/"
        },
        "id": "vD3N1R83Hyom",
        "outputId": "b5a98521-0c31-4c15-d38c-0ce191cec1c9"
      },
      "execution_count": null,
      "outputs": [
        {
          "output_type": "stream",
          "name": "stdout",
          "text": [
            "[1, 2, 3]\n",
            "[2, 3]\n"
          ]
        }
      ]
    },
    {
      "cell_type": "code",
      "source": [
        "변수 = 1\n",
        "print(변수)\n",
        "del 변수\n",
        "print(변수) #변수도 삭제 가능"
      ],
      "metadata": {
        "id": "PlHv0cTMIKj4"
      },
      "execution_count": null,
      "outputs": []
    },
    {
      "cell_type": "code",
      "source": [
        "del 튜플[0] #튜플 안의 값은 삭제할수가없음"
      ],
      "metadata": {
        "colab": {
          "base_uri": "https://localhost:8080/",
          "height": 176
        },
        "id": "NbBcZNdjIWKX",
        "outputId": "8f5ba0c3-a452-43c3-d1d9-3d66a4f6a2ad"
      },
      "execution_count": null,
      "outputs": [
        {
          "output_type": "error",
          "ename": "TypeError",
          "evalue": "ignored",
          "traceback": [
            "\u001b[0;31m---------------------------------------------------------------------------\u001b[0m",
            "\u001b[0;31mTypeError\u001b[0m                                 Traceback (most recent call last)",
            "\u001b[0;32m<ipython-input-119-aa60fe5e77b7>\u001b[0m in \u001b[0;36m<module>\u001b[0;34m()\u001b[0m\n\u001b[0;32m----> 1\u001b[0;31m \u001b[0;32mdel\u001b[0m \u001b[0m튜플\u001b[0m\u001b[0;34m[\u001b[0m\u001b[0;36m0\u001b[0m\u001b[0;34m]\u001b[0m \u001b[0;31m#튜플 안의 값은 삭제할수가없음\u001b[0m\u001b[0;34m\u001b[0m\u001b[0;34m\u001b[0m\u001b[0m\n\u001b[0m",
            "\u001b[0;31mTypeError\u001b[0m: 'tuple' object doesn't support item deletion"
          ]
        }
      ]
    },
    {
      "cell_type": "code",
      "source": [
        "튜플1 =(1,2,3,[1,2,3])\n",
        "print(튜플1)\n",
        "튜플1[-1][0] = 10\n",
        "print(튜플1)   #튜플 안에 잇는 배열은 바꿀수잇음"
      ],
      "metadata": {
        "colab": {
          "base_uri": "https://localhost:8080/"
        },
        "id": "FdQkw3GqIuqV",
        "outputId": "6305900b-6c8c-447c-fd9f-7c3c773fd3c6"
      },
      "execution_count": null,
      "outputs": [
        {
          "output_type": "stream",
          "name": "stdout",
          "text": [
            "(1, 2, 3, [1, 2, 3])\n",
            "(1, 2, 3, [10, 2, 3])\n"
          ]
        }
      ]
    },
    {
      "cell_type": "code",
      "source": [
        "튜플[:2]"
      ],
      "metadata": {
        "colab": {
          "base_uri": "https://localhost:8080/"
        },
        "id": "muUnjYl4Jzjc",
        "outputId": "36a452f1-d32f-40a7-e3b3-4a549725edb9"
      },
      "execution_count": null,
      "outputs": [
        {
          "output_type": "execute_result",
          "data": {
            "text/plain": [
              "(1, 2)"
            ]
          },
          "metadata": {},
          "execution_count": 123
        }
      ]
    },
    {
      "cell_type": "code",
      "source": [
        "딕셔너리 = {'키':'값'}\n",
        "print(딕셔너리)"
      ],
      "metadata": {
        "colab": {
          "base_uri": "https://localhost:8080/"
        },
        "id": "4f8ZOzTYP2xb",
        "outputId": "99d837c2-0d40-454a-c8c9-0ff435f0eeed"
      },
      "execution_count": null,
      "outputs": [
        {
          "output_type": "stream",
          "name": "stdout",
          "text": [
            "{'키': '값'}\n"
          ]
        }
      ]
    },
    {
      "cell_type": "code",
      "source": [
        "print(type(배열))"
      ],
      "metadata": {
        "colab": {
          "base_uri": "https://localhost:8080/"
        },
        "id": "ZJTCsLPDQcLA",
        "outputId": "29e22200-7df2-4939-9eae-bff98ca66045"
      },
      "execution_count": null,
      "outputs": [
        {
          "output_type": "stream",
          "name": "stdout",
          "text": [
            "<class 'list'>\n"
          ]
        }
      ]
    },
    {
      "cell_type": "code",
      "source": [
        "회원정보 = {\n",
        "    '이름' : '문지혁',\n",
        "    '번호' : '010-9873',\n",
        "    '성별' : '남'\n",
        "}\n",
        "print(회원정보)"
      ],
      "metadata": {
        "colab": {
          "base_uri": "https://localhost:8080/"
        },
        "id": "IMRHuMj0Qylh",
        "outputId": "36108b09-2ad3-4c08-c3f4-17018adcfde9"
      },
      "execution_count": null,
      "outputs": [
        {
          "output_type": "stream",
          "name": "stdout",
          "text": [
            "{'이름': '문지혁', '번호': '010-9873', '성별': '남'}\n"
          ]
        }
      ]
    },
    {
      "cell_type": "code",
      "source": [
        "print(회원정보['이름'])\n",
        "      "
      ],
      "metadata": {
        "colab": {
          "base_uri": "https://localhost:8080/"
        },
        "id": "PvZMpBvCRCcY",
        "outputId": "a5fe5939-37e1-4fab-b0ec-ec250465f605"
      },
      "execution_count": null,
      "outputs": [
        {
          "output_type": "stream",
          "name": "stdout",
          "text": [
            "문지혁\n"
          ]
        }
      ]
    },
    {
      "cell_type": "code",
      "source": [
        "회원정보['주소'] = '제주시'\n",
        "print(회원정보)   # 이렇게 값을 추가 가능."
      ],
      "metadata": {
        "colab": {
          "base_uri": "https://localhost:8080/"
        },
        "id": "kxu9rWG1RUuK",
        "outputId": "f9d567de-38d1-4102-f067-577bbcbeb831"
      },
      "execution_count": null,
      "outputs": [
        {
          "output_type": "stream",
          "name": "stdout",
          "text": [
            "{'이름': '문지혁', '번호': '010-9873', '성별': '남', '주소': '제주시'}\n"
          ]
        }
      ]
    },
    {
      "cell_type": "code",
      "source": [
        "회원정보['번호'] = '010-0000'\n",
        "print(회원정보) #이러면 번호가 추가되는게 아니고 기존에서 업데이트됨"
      ],
      "metadata": {
        "colab": {
          "base_uri": "https://localhost:8080/"
        },
        "id": "WsEfHN5VRdtB",
        "outputId": "5a0a8798-fc04-425f-a249-869de034dfef"
      },
      "execution_count": null,
      "outputs": [
        {
          "output_type": "stream",
          "name": "stdout",
          "text": [
            "{'이름': '문지혁', '번호': '010-0000', '성별': '남', '주소': '제주시'}\n"
          ]
        }
      ]
    },
    {
      "cell_type": "code",
      "source": [
        "회원정보2 = {\n",
        "    '이름' : '문지혁',\n",
        "    '번호' : '010-9873-3333',\n",
        "    '성별' : '남',\n",
        "    '주소' : '제주시',\n",
        "    '번호' : '010-00'\n",
        "    #중복되는키 허용 x\n",
        "}\n",
        "print(회원정보2)"
      ],
      "metadata": {
        "colab": {
          "base_uri": "https://localhost:8080/"
        },
        "id": "6em8Yb8MRsAG",
        "outputId": "a631b3f8-19d9-4802-bae3-dc997a5f4b3e"
      },
      "execution_count": null,
      "outputs": [
        {
          "output_type": "stream",
          "name": "stdout",
          "text": [
            "{'이름': '문지혁', '번호': '010-00', '성별': '남', '주소': '제주시'}\n"
          ]
        }
      ]
    },
    {
      "cell_type": "code",
      "source": [
        "회원정보.keys()"
      ],
      "metadata": {
        "colab": {
          "base_uri": "https://localhost:8080/"
        },
        "id": "qQG-nzNESKPP",
        "outputId": "fa8c1eab-42d4-4187-dba3-ace0ceaeea1e"
      },
      "execution_count": null,
      "outputs": [
        {
          "output_type": "execute_result",
          "data": {
            "text/plain": [
              "dict_keys(['이름', '번호', '성별', '주소'])"
            ]
          },
          "metadata": {},
          "execution_count": 141
        }
      ]
    },
    {
      "cell_type": "code",
      "source": [
        "회원정보키 = 회원정보.keys()\n",
        "회원정보값 = 회원정보.values()\n",
        "print(회원정보키, \"키\")\n",
        "print(회원정보값, \"값\")"
      ],
      "metadata": {
        "colab": {
          "base_uri": "https://localhost:8080/"
        },
        "id": "yhHZtrKOSXmk",
        "outputId": "87688a9f-8ff3-43c6-af58-83fbeb419d7f"
      },
      "execution_count": null,
      "outputs": [
        {
          "output_type": "stream",
          "name": "stdout",
          "text": [
            "dict_keys(['이름', '번호', '성별', '주소']) 키\n",
            "dict_values(['문지혁', '010-0000', '남', '제주시']) 값\n"
          ]
        }
      ]
    },
    {
      "cell_type": "code",
      "source": [
        "이름get = 회원정보.get('이름')\n",
        "이름 = 회원정보['이름']\n",
        "print(이름get,\"get이용\")\n",
        "print(이름, \"key이용하여 가져옴\")\n"
      ],
      "metadata": {
        "colab": {
          "base_uri": "https://localhost:8080/"
        },
        "id": "61q6xv-GTCB4",
        "outputId": "26a99d8f-b2d6-4bd7-866c-61c5a20b52c6"
      },
      "execution_count": null,
      "outputs": [
        {
          "output_type": "stream",
          "name": "stdout",
          "text": [
            "문지혁 get이용\n",
            "문지혁 key이용하여 가져옴\n"
          ]
        }
      ]
    },
    {
      "cell_type": "code",
      "source": [
        "샘플딕셔너리 = {\n",
        "    \"배열1\" :[1,2,3]\n",
        "}\n",
        "배열get = 샘플딕셔너리.get(\"배열2\") #없는 키값은 none로 없다고 알려줌"
      ],
      "metadata": {
        "id": "6Mwq-IQzUD5-"
      },
      "execution_count": null,
      "outputs": []
    },
    {
      "cell_type": "code",
      "source": [
        "print(배열get)"
      ],
      "metadata": {
        "colab": {
          "base_uri": "https://localhost:8080/"
        },
        "id": "l-jOoKpyUOzd",
        "outputId": "7a7e0449-75e9-4afd-cfac-9d8b759b6617"
      },
      "execution_count": null,
      "outputs": [
        {
          "output_type": "stream",
          "name": "stdout",
          "text": [
            "None\n"
          ]
        }
      ]
    },
    {
      "cell_type": "code",
      "source": [
        "'이름' in 회원정보"
      ],
      "metadata": {
        "colab": {
          "base_uri": "https://localhost:8080/"
        },
        "id": "3bvKxiryUPLh",
        "outputId": "de9d6c3d-3728-431b-da8c-85433bd0f29c"
      },
      "execution_count": null,
      "outputs": [
        {
          "output_type": "execute_result",
          "data": {
            "text/plain": [
              "True"
            ]
          },
          "metadata": {},
          "execution_count": 155
        }
      ]
    },
    {
      "cell_type": "code",
      "source": [
        "'직업' in 회원정보"
      ],
      "metadata": {
        "colab": {
          "base_uri": "https://localhost:8080/"
        },
        "id": "WsP9gqzNUSgA",
        "outputId": "457e922b-7295-44f5-e302-e77301dfb5f6"
      },
      "execution_count": null,
      "outputs": [
        {
          "output_type": "execute_result",
          "data": {
            "text/plain": [
              "False"
            ]
          },
          "metadata": {},
          "execution_count": 157
        }
      ]
    },
    {
      "cell_type": "code",
      "source": [
        "print(True)"
      ],
      "metadata": {
        "colab": {
          "base_uri": "https://localhost:8080/"
        },
        "id": "uKvcAr4yUoRO",
        "outputId": "f8b38ecb-7d9f-4c2e-97d2-815eda0fb60c"
      },
      "execution_count": null,
      "outputs": [
        {
          "output_type": "stream",
          "name": "stdout",
          "text": [
            "True\n"
          ]
        }
      ]
    },
    {
      "cell_type": "code",
      "source": [
        "print(type(True))"
      ],
      "metadata": {
        "colab": {
          "base_uri": "https://localhost:8080/"
        },
        "id": "6wpY6XeLUvOZ",
        "outputId": "33a7e77d-e6dc-4319-e3eb-ce6f584a3331"
      },
      "execution_count": null,
      "outputs": [
        {
          "output_type": "stream",
          "name": "stdout",
          "text": [
            "<class 'bool'>\n"
          ]
        }
      ]
    },
    {
      "cell_type": "code",
      "source": [
        "print(False)"
      ],
      "metadata": {
        "colab": {
          "base_uri": "https://localhost:8080/"
        },
        "id": "Pu-Lexc7U3j_",
        "outputId": "29f8e4dc-a29b-4909-95a8-93fec1803a10"
      },
      "execution_count": null,
      "outputs": [
        {
          "output_type": "stream",
          "name": "stdout",
          "text": [
            "False\n"
          ]
        }
      ]
    },
    {
      "cell_type": "code",
      "source": [
        "print(type(False))"
      ],
      "metadata": {
        "colab": {
          "base_uri": "https://localhost:8080/"
        },
        "id": "DRnwuFW4U6gL",
        "outputId": "a8f68d9f-aee5-426b-a527-e3afec237f09"
      },
      "execution_count": null,
      "outputs": [
        {
          "output_type": "stream",
          "name": "stdout",
          "text": [
            "<class 'bool'>\n"
          ]
        }
      ]
    },
    {
      "cell_type": "code",
      "source": [
        "숫자1 =10\n",
        "숫자2=20"
      ],
      "metadata": {
        "id": "Hbumx7x_VKIl"
      },
      "execution_count": null,
      "outputs": []
    },
    {
      "cell_type": "code",
      "source": [
        "결과1 = 숫자1<숫자2"
      ],
      "metadata": {
        "id": "GJxcGUzxVRAD"
      },
      "execution_count": null,
      "outputs": []
    },
    {
      "cell_type": "code",
      "source": [
        "print(결과1)"
      ],
      "metadata": {
        "colab": {
          "base_uri": "https://localhost:8080/"
        },
        "id": "fHvQk9rhVWaJ",
        "outputId": "218909ad-bb34-4b22-ae9e-45203c37c53d"
      },
      "execution_count": null,
      "outputs": [
        {
          "output_type": "stream",
          "name": "stdout",
          "text": [
            "True\n"
          ]
        }
      ]
    },
    {
      "cell_type": "code",
      "source": [
        "결과2 = 숫자1>숫자2\n",
        "print(결과2)"
      ],
      "metadata": {
        "colab": {
          "base_uri": "https://localhost:8080/"
        },
        "id": "1Xo8iylsVayy",
        "outputId": "3b97fd3b-9695-45b4-9cdd-9e825eec7c85"
      },
      "execution_count": null,
      "outputs": [
        {
          "output_type": "stream",
          "name": "stdout",
          "text": [
            "False\n"
          ]
        }
      ]
    },
    {
      "cell_type": "code",
      "source": [
        "결과3 = 숫자1>=숫자2\n",
        "print(결과3)\n",
        "결과4 = 숫자1<=숫자2\n",
        "print(결과4)\n",
        "결과5= 숫자1==숫자2\n",
        "print(결과5)\n",
        "결과6= 숫자2 != 숫자1\n",
        "print(결과6)"
      ],
      "metadata": {
        "colab": {
          "base_uri": "https://localhost:8080/"
        },
        "id": "AOr35tNlVeRR",
        "outputId": "b76797c6-7e33-47e5-fc18-afc7cfb35480"
      },
      "execution_count": null,
      "outputs": [
        {
          "output_type": "stream",
          "name": "stdout",
          "text": [
            "False\n",
            "True\n",
            "False\n",
            "True\n"
          ]
        }
      ]
    },
    {
      "cell_type": "markdown",
      "source": [
        "조건문\n"
      ],
      "metadata": {
        "id": "rLzZ7llzWLCD"
      }
    },
    {
      "cell_type": "code",
      "source": [
        "#if True/False 가 들어간다.\n",
        "if False:\n",
        "  print(\"거짓입니다.\")"
      ],
      "metadata": {
        "id": "o82XEh1BWO95"
      },
      "execution_count": null,
      "outputs": []
    },
    {
      "cell_type": "code",
      "source": [
        "if True:\n",
        "  print(\"참입니다.\")"
      ],
      "metadata": {
        "colab": {
          "base_uri": "https://localhost:8080/"
        },
        "id": "V_aExA4CWqcb",
        "outputId": "afb07589-266a-4df4-f813-e199be3575ff"
      },
      "execution_count": null,
      "outputs": [
        {
          "output_type": "stream",
          "name": "stdout",
          "text": [
            "참입니다.\n"
          ]
        }
      ]
    },
    {
      "cell_type": "code",
      "source": [
        "not True"
      ],
      "metadata": {
        "colab": {
          "base_uri": "https://localhost:8080/"
        },
        "id": "ES3m0QD2W3OX",
        "outputId": "87fa3826-11ab-4b83-cfbe-d1d7855dd6b8"
      },
      "execution_count": null,
      "outputs": [
        {
          "output_type": "execute_result",
          "data": {
            "text/plain": [
              "False"
            ]
          },
          "metadata": {},
          "execution_count": 182
        }
      ]
    },
    {
      "cell_type": "code",
      "source": [
        "조건=True\n",
        "if not 조건:\n",
        "  print(\"거짓입니다.\")\n",
        "else:\n",
        "    print(\"조건에 맞는것이 없습니다.\")"
      ],
      "metadata": {
        "colab": {
          "base_uri": "https://localhost:8080/"
        },
        "id": "ydx0_iTuXMnE",
        "outputId": "ae3099cb-afc7-4505-ec6c-168872ada2db"
      },
      "execution_count": null,
      "outputs": [
        {
          "output_type": "stream",
          "name": "stdout",
          "text": [
            "조건에 맞는것이 없습니다.\n"
          ]
        }
      ]
    },
    {
      "cell_type": "code",
      "source": [
        "숫자1=1\n",
        "숫자2=10\n",
        "숫자3=15\n",
        "if 숫자1>5:\n",
        "  print(\"숫자1이 5보다 큽니다\")\n",
        "elif 숫자2<11:\n",
        "  print(\"숫자2가 11보다 작습니다.\")\n",
        "else:\n",
        "  print(숫자3, \"마지막숫자입니다.\")\n",
        "  "
      ],
      "metadata": {
        "colab": {
          "base_uri": "https://localhost:8080/"
        },
        "id": "F1rezedUXiIX",
        "outputId": "3a47d98f-cab0-4a7d-8ec3-c8069e4b868f"
      },
      "execution_count": null,
      "outputs": [
        {
          "output_type": "stream",
          "name": "stdout",
          "text": [
            "숫자2가 11보다 작습니다.\n"
          ]
        }
      ]
    },
    {
      "cell_type": "markdown",
      "source": [
        "논리연산"
      ],
      "metadata": {
        "id": "LsAYvfYbYg7I"
      }
    },
    {
      "cell_type": "code",
      "source": [
        "print(False and False)\n"
      ],
      "metadata": {
        "colab": {
          "base_uri": "https://localhost:8080/"
        },
        "id": "v8BbYvaeYiiZ",
        "outputId": "a1fab792-8674-43c6-a44f-eb775526cf3a"
      },
      "execution_count": null,
      "outputs": [
        {
          "output_type": "stream",
          "name": "stdout",
          "text": [
            "False\n"
          ]
        }
      ]
    },
    {
      "cell_type": "code",
      "source": [
        "print(True or False) #둘중하나만 되도 ㄱㄴ"
      ],
      "metadata": {
        "colab": {
          "base_uri": "https://localhost:8080/"
        },
        "id": "qulA_We3ZCte",
        "outputId": "76dede1f-40ab-4433-ed95-e62cbf8ed68a"
      },
      "execution_count": null,
      "outputs": [
        {
          "output_type": "stream",
          "name": "stdout",
          "text": [
            "True\n"
          ]
        }
      ]
    },
    {
      "cell_type": "code",
      "source": [
        "print(True and False) #참이며 거짓이어야함"
      ],
      "metadata": {
        "colab": {
          "base_uri": "https://localhost:8080/"
        },
        "id": "4GCwTnZkZGfH",
        "outputId": "d3de4afc-03c9-4613-ca02-030696bb74d7"
      },
      "execution_count": null,
      "outputs": [
        {
          "output_type": "stream",
          "name": "stdout",
          "text": [
            "False\n"
          ]
        }
      ]
    },
    {
      "cell_type": "code",
      "source": [
        ""
      ],
      "metadata": {
        "id": "kTgvPUrDZMF9"
      },
      "execution_count": null,
      "outputs": []
    },
    {
      "cell_type": "code",
      "source": [
        "숫자1=1\n",
        "숫자2=10\n",
        "숫자3=15\n",
        "if 숫자1>5 or 숫자2<11:\n",
        "  print(\"숫자1이 5보다 큽니다. 또는 숫자2가 11보다 작습니다\")\n",
        "elif 숫자2<11:\n",
        "  print(\"숫자2가 11보다 작습니다.\")\n",
        "else:\n",
        "  print(숫자3, \"마지막숫자입니다.\")\n",
        "  "
      ],
      "metadata": {
        "colab": {
          "base_uri": "https://localhost:8080/"
        },
        "outputId": "8068d78f-3434-4e80-e64a-9f2800e93cb0",
        "id": "RBQLyi6QZVDh"
      },
      "execution_count": null,
      "outputs": [
        {
          "output_type": "stream",
          "name": "stdout",
          "text": [
            "숫자1이 5보다 큽니다. 또는 숫자2가 11보다 작습니다\n"
          ]
        }
      ]
    },
    {
      "cell_type": "code",
      "source": [
        "입력받은값 = input()"
      ],
      "metadata": {
        "colab": {
          "base_uri": "https://localhost:8080/"
        },
        "id": "3JIE58_5Zul9",
        "outputId": "a6b2e283-b82e-43e5-e11c-47ced557032b"
      },
      "execution_count": null,
      "outputs": [
        {
          "name": "stdout",
          "output_type": "stream",
          "text": [
            "10\n"
          ]
        }
      ]
    },
    {
      "cell_type": "code",
      "source": [
        "print(입력받은값)"
      ],
      "metadata": {
        "colab": {
          "base_uri": "https://localhost:8080/"
        },
        "id": "oztl0DjZZ1LB",
        "outputId": "23a8d937-5c42-49ec-f1c8-6fff5f8eecd3"
      },
      "execution_count": null,
      "outputs": [
        {
          "output_type": "stream",
          "name": "stdout",
          "text": [
            "10\n"
          ]
        }
      ]
    },
    {
      "cell_type": "code",
      "source": [
        "print(입력받은값 > 5) #하면 에러가 나옴"
      ],
      "metadata": {
        "id": "95wdJesDZ5yE"
      },
      "execution_count": null,
      "outputs": []
    },
    {
      "cell_type": "code",
      "source": [
        "print(type(입력받은값)) #이게 문자열이라는것을 알수잇"
      ],
      "metadata": {
        "colab": {
          "base_uri": "https://localhost:8080/"
        },
        "id": "PNwtuU5rZ_9w",
        "outputId": "620cb1a6-368d-4368-e8ba-0dc0d30dc5ca"
      },
      "execution_count": null,
      "outputs": [
        {
          "output_type": "stream",
          "name": "stdout",
          "text": [
            "<class 'str'>\n"
          ]
        }
      ]
    },
    {
      "cell_type": "code",
      "source": [
        "입력받은숫자 = int(입력받은값)\n"
      ],
      "metadata": {
        "id": "mYlvn67sah7d"
      },
      "execution_count": null,
      "outputs": []
    },
    {
      "cell_type": "code",
      "source": [
        "print(type(입력받은숫자)) #해주면 타입이 int로 바뀜"
      ],
      "metadata": {
        "colab": {
          "base_uri": "https://localhost:8080/"
        },
        "id": "X6HeBiNTamb0",
        "outputId": "15d2d426-da10-4647-c2a7-51198b2af50d"
      },
      "execution_count": null,
      "outputs": [
        {
          "output_type": "stream",
          "name": "stdout",
          "text": [
            "<class 'int'>\n"
          ]
        }
      ]
    },
    {
      "cell_type": "code",
      "source": [
        "첫번째숫자 = input()\n",
        "두번째숫자 = input()\n",
        "\n",
        "첫번째숫자 = int(첫번째숫자)\n",
        "두번째숫자 = int(두번째숫자)\n",
        "###여기도 코드가 들어가야됨\n",
        "\n",
        "if (int(첫번째숫자)>int(두번째숫자)):    #숫자 2개를 입력받아서 비교할것\n",
        "  print(\"첫번째 숫자가 큽니다\")\n",
        "elif (int(첫번째숫자)==int(두번째숫자)):\n",
        "  print(\"숫자가 같습니다\")\n",
        "else:\n",
        "  print(\"두번째 숫자가 큽니다\")"
      ],
      "metadata": {
        "id": "T9HvpArXaqz7",
        "colab": {
          "base_uri": "https://localhost:8080/",
          "height": 574
        },
        "outputId": "a2b508e3-eb38-458c-fc21-d871e8150539"
      },
      "execution_count": null,
      "outputs": [
        {
          "output_type": "error",
          "ename": "KeyboardInterrupt",
          "evalue": "ignored",
          "traceback": [
            "\u001b[0;31m---------------------------------------------------------------------------\u001b[0m",
            "\u001b[0;31mKeyboardInterrupt\u001b[0m                         Traceback (most recent call last)",
            "\u001b[0;32m/usr/local/lib/python3.7/dist-packages/ipykernel/kernelbase.py\u001b[0m in \u001b[0;36m_input_request\u001b[0;34m(self, prompt, ident, parent, password)\u001b[0m\n\u001b[1;32m    728\u001b[0m             \u001b[0;32mtry\u001b[0m\u001b[0;34m:\u001b[0m\u001b[0;34m\u001b[0m\u001b[0;34m\u001b[0m\u001b[0m\n\u001b[0;32m--> 729\u001b[0;31m                 \u001b[0mident\u001b[0m\u001b[0;34m,\u001b[0m \u001b[0mreply\u001b[0m \u001b[0;34m=\u001b[0m \u001b[0mself\u001b[0m\u001b[0;34m.\u001b[0m\u001b[0msession\u001b[0m\u001b[0;34m.\u001b[0m\u001b[0mrecv\u001b[0m\u001b[0;34m(\u001b[0m\u001b[0mself\u001b[0m\u001b[0;34m.\u001b[0m\u001b[0mstdin_socket\u001b[0m\u001b[0;34m,\u001b[0m \u001b[0;36m0\u001b[0m\u001b[0;34m)\u001b[0m\u001b[0;34m\u001b[0m\u001b[0;34m\u001b[0m\u001b[0m\n\u001b[0m\u001b[1;32m    730\u001b[0m             \u001b[0;32mexcept\u001b[0m \u001b[0mException\u001b[0m\u001b[0;34m:\u001b[0m\u001b[0;34m\u001b[0m\u001b[0;34m\u001b[0m\u001b[0m\n",
            "\u001b[0;32m/usr/local/lib/python3.7/dist-packages/jupyter_client/session.py\u001b[0m in \u001b[0;36mrecv\u001b[0;34m(self, socket, mode, content, copy)\u001b[0m\n\u001b[1;32m    802\u001b[0m         \u001b[0;32mtry\u001b[0m\u001b[0;34m:\u001b[0m\u001b[0;34m\u001b[0m\u001b[0;34m\u001b[0m\u001b[0m\n\u001b[0;32m--> 803\u001b[0;31m             \u001b[0mmsg_list\u001b[0m \u001b[0;34m=\u001b[0m \u001b[0msocket\u001b[0m\u001b[0;34m.\u001b[0m\u001b[0mrecv_multipart\u001b[0m\u001b[0;34m(\u001b[0m\u001b[0mmode\u001b[0m\u001b[0;34m,\u001b[0m \u001b[0mcopy\u001b[0m\u001b[0;34m=\u001b[0m\u001b[0mcopy\u001b[0m\u001b[0;34m)\u001b[0m\u001b[0;34m\u001b[0m\u001b[0;34m\u001b[0m\u001b[0m\n\u001b[0m\u001b[1;32m    804\u001b[0m         \u001b[0;32mexcept\u001b[0m \u001b[0mzmq\u001b[0m\u001b[0;34m.\u001b[0m\u001b[0mZMQError\u001b[0m \u001b[0;32mas\u001b[0m \u001b[0me\u001b[0m\u001b[0;34m:\u001b[0m\u001b[0;34m\u001b[0m\u001b[0;34m\u001b[0m\u001b[0m\n",
            "\u001b[0;32m/usr/local/lib/python3.7/dist-packages/zmq/sugar/socket.py\u001b[0m in \u001b[0;36mrecv_multipart\u001b[0;34m(self, flags, copy, track)\u001b[0m\n\u001b[1;32m    726\u001b[0m         \"\"\"\n\u001b[0;32m--> 727\u001b[0;31m         \u001b[0mparts\u001b[0m \u001b[0;34m=\u001b[0m \u001b[0;34m[\u001b[0m\u001b[0mself\u001b[0m\u001b[0;34m.\u001b[0m\u001b[0mrecv\u001b[0m\u001b[0;34m(\u001b[0m\u001b[0mflags\u001b[0m\u001b[0;34m,\u001b[0m \u001b[0mcopy\u001b[0m\u001b[0;34m=\u001b[0m\u001b[0mcopy\u001b[0m\u001b[0;34m,\u001b[0m \u001b[0mtrack\u001b[0m\u001b[0;34m=\u001b[0m\u001b[0mtrack\u001b[0m\u001b[0;34m)\u001b[0m\u001b[0;34m]\u001b[0m\u001b[0;34m\u001b[0m\u001b[0;34m\u001b[0m\u001b[0m\n\u001b[0m\u001b[1;32m    728\u001b[0m         \u001b[0;31m# have first part already, only loop while more to receive\u001b[0m\u001b[0;34m\u001b[0m\u001b[0;34m\u001b[0m\u001b[0;34m\u001b[0m\u001b[0m\n",
            "\u001b[0;32mzmq/backend/cython/socket.pyx\u001b[0m in \u001b[0;36mzmq.backend.cython.socket.Socket.recv\u001b[0;34m()\u001b[0m\n",
            "\u001b[0;32mzmq/backend/cython/socket.pyx\u001b[0m in \u001b[0;36mzmq.backend.cython.socket.Socket.recv\u001b[0;34m()\u001b[0m\n",
            "\u001b[0;32mzmq/backend/cython/socket.pyx\u001b[0m in \u001b[0;36mzmq.backend.cython.socket._recv_copy\u001b[0;34m()\u001b[0m\n",
            "\u001b[0;32m/usr/local/lib/python3.7/dist-packages/zmq/backend/cython/checkrc.pxd\u001b[0m in \u001b[0;36mzmq.backend.cython.checkrc._check_rc\u001b[0;34m()\u001b[0m\n",
            "\u001b[0;31mKeyboardInterrupt\u001b[0m: ",
            "\nDuring handling of the above exception, another exception occurred:\n",
            "\u001b[0;31mKeyboardInterrupt\u001b[0m                         Traceback (most recent call last)",
            "\u001b[0;32m<ipython-input-210-591f6ceaed86>\u001b[0m in \u001b[0;36m<module>\u001b[0;34m()\u001b[0m\n\u001b[0;32m----> 1\u001b[0;31m \u001b[0m첫번째숫자\u001b[0m \u001b[0;34m=\u001b[0m \u001b[0minput\u001b[0m\u001b[0;34m(\u001b[0m\u001b[0;34m)\u001b[0m\u001b[0;34m\u001b[0m\u001b[0;34m\u001b[0m\u001b[0m\n\u001b[0m\u001b[1;32m      2\u001b[0m \u001b[0m두번째숫자\u001b[0m \u001b[0;34m=\u001b[0m \u001b[0minput\u001b[0m\u001b[0;34m(\u001b[0m\u001b[0;34m)\u001b[0m\u001b[0;34m\u001b[0m\u001b[0;34m\u001b[0m\u001b[0m\n\u001b[1;32m      3\u001b[0m \u001b[0;34m\u001b[0m\u001b[0m\n\u001b[1;32m      4\u001b[0m \u001b[0m첫번째숫자\u001b[0m \u001b[0;34m=\u001b[0m \u001b[0mint\u001b[0m\u001b[0;34m(\u001b[0m\u001b[0m첫번째숫자\u001b[0m\u001b[0;34m)\u001b[0m\u001b[0;34m\u001b[0m\u001b[0;34m\u001b[0m\u001b[0m\n\u001b[1;32m      5\u001b[0m \u001b[0m두번째숫자\u001b[0m \u001b[0;34m=\u001b[0m \u001b[0mint\u001b[0m\u001b[0;34m(\u001b[0m\u001b[0m두번째숫자\u001b[0m\u001b[0;34m)\u001b[0m\u001b[0;34m\u001b[0m\u001b[0;34m\u001b[0m\u001b[0m\n",
            "\u001b[0;32m/usr/local/lib/python3.7/dist-packages/ipykernel/kernelbase.py\u001b[0m in \u001b[0;36mraw_input\u001b[0;34m(self, prompt)\u001b[0m\n\u001b[1;32m    702\u001b[0m             \u001b[0mself\u001b[0m\u001b[0;34m.\u001b[0m\u001b[0m_parent_ident\u001b[0m\u001b[0;34m,\u001b[0m\u001b[0;34m\u001b[0m\u001b[0;34m\u001b[0m\u001b[0m\n\u001b[1;32m    703\u001b[0m             \u001b[0mself\u001b[0m\u001b[0;34m.\u001b[0m\u001b[0m_parent_header\u001b[0m\u001b[0;34m,\u001b[0m\u001b[0;34m\u001b[0m\u001b[0;34m\u001b[0m\u001b[0m\n\u001b[0;32m--> 704\u001b[0;31m             \u001b[0mpassword\u001b[0m\u001b[0;34m=\u001b[0m\u001b[0;32mFalse\u001b[0m\u001b[0;34m,\u001b[0m\u001b[0;34m\u001b[0m\u001b[0;34m\u001b[0m\u001b[0m\n\u001b[0m\u001b[1;32m    705\u001b[0m         )\n\u001b[1;32m    706\u001b[0m \u001b[0;34m\u001b[0m\u001b[0m\n",
            "\u001b[0;32m/usr/local/lib/python3.7/dist-packages/ipykernel/kernelbase.py\u001b[0m in \u001b[0;36m_input_request\u001b[0;34m(self, prompt, ident, parent, password)\u001b[0m\n\u001b[1;32m    732\u001b[0m             \u001b[0;32mexcept\u001b[0m \u001b[0mKeyboardInterrupt\u001b[0m\u001b[0;34m:\u001b[0m\u001b[0;34m\u001b[0m\u001b[0;34m\u001b[0m\u001b[0m\n\u001b[1;32m    733\u001b[0m                 \u001b[0;31m# re-raise KeyboardInterrupt, to truncate traceback\u001b[0m\u001b[0;34m\u001b[0m\u001b[0;34m\u001b[0m\u001b[0;34m\u001b[0m\u001b[0m\n\u001b[0;32m--> 734\u001b[0;31m                 \u001b[0;32mraise\u001b[0m \u001b[0mKeyboardInterrupt\u001b[0m\u001b[0;34m\u001b[0m\u001b[0;34m\u001b[0m\u001b[0m\n\u001b[0m\u001b[1;32m    735\u001b[0m             \u001b[0;32melse\u001b[0m\u001b[0;34m:\u001b[0m\u001b[0;34m\u001b[0m\u001b[0;34m\u001b[0m\u001b[0m\n\u001b[1;32m    736\u001b[0m                 \u001b[0;32mbreak\u001b[0m\u001b[0;34m\u001b[0m\u001b[0;34m\u001b[0m\u001b[0m\n",
            "\u001b[0;31mKeyboardInterrupt\u001b[0m: "
          ]
        }
      ]
    },
    {
      "cell_type": "code",
      "source": [
        ""
      ],
      "metadata": {
        "id": "UpkgqlDZccH2"
      },
      "execution_count": null,
      "outputs": []
    },
    {
      "cell_type": "markdown",
      "source": [
        "반복문"
      ],
      "metadata": {
        "id": "91X7_IuLfBxE"
      }
    },
    {
      "cell_type": "code",
      "source": [
        "#while True인동안:\n",
        "카운트 = 0\n",
        "while 카운트<10:\n",
        "  print(카운트)\n",
        "  카운트 = 카운트 +1"
      ],
      "metadata": {
        "id": "Nk9qUBdAfE_f"
      },
      "execution_count": null,
      "outputs": []
    },
    {
      "cell_type": "code",
      "source": [
        "#while True인동안:\n",
        "카운트 = 0\n",
        "while 카운트<10:\n",
        "  print(카운트)\n",
        "  카운트 = 카운트 +1\n",
        "  break"
      ],
      "metadata": {
        "id": "50Y6J4zMf1lt",
        "colab": {
          "base_uri": "https://localhost:8080/"
        },
        "outputId": "7d7a86ec-8b4e-4028-90fd-e87f166fceff"
      },
      "execution_count": null,
      "outputs": [
        {
          "output_type": "stream",
          "name": "stdout",
          "text": [
            "0\n"
          ]
        }
      ]
    },
    {
      "cell_type": "code",
      "source": [
        "#while True인동안:\n",
        "카운트 = 0\n",
        "while 카운트<10:\n",
        "  print(카운트)\n",
        "  카운트 = 카운트 +1\n",
        "  if(카운트>=6):\n",
        "    break\n"
      ],
      "metadata": {
        "colab": {
          "base_uri": "https://localhost:8080/"
        },
        "id": "7WBZ732lgCIM",
        "outputId": "f250b462-5698-4e3e-a169-4de0750d6537"
      },
      "execution_count": null,
      "outputs": [
        {
          "output_type": "stream",
          "name": "stdout",
          "text": [
            "0\n",
            "1\n",
            "2\n",
            "3\n",
            "4\n",
            "5\n"
          ]
        }
      ]
    },
    {
      "cell_type": "code",
      "source": [
        "#while True인동안:\n",
        "카운트 = 0\n",
        "while 카운트<10:\n",
        "  print(카운트)\n",
        "  카운트 = 카운트 +1\n",
        "  if(카운트==1):\n",
        "    continue #이러면 뒤에 잇는건 실행 x, 다음루프로 넘어감\n",
        "  if(카운트%2==1):\n",
        "    print(카운트)"
      ],
      "metadata": {
        "colab": {
          "base_uri": "https://localhost:8080/"
        },
        "id": "x6Yv6m79g0-Z",
        "outputId": "1cd6a945-28d1-42ed-c41c-cc217b18e9da"
      },
      "execution_count": null,
      "outputs": [
        {
          "output_type": "stream",
          "name": "stdout",
          "text": [
            "0\n",
            "1\n",
            "2\n",
            "3\n",
            "3\n",
            "4\n",
            "5\n",
            "5\n",
            "6\n",
            "7\n",
            "7\n",
            "8\n",
            "9\n",
            "9\n"
          ]
        }
      ]
    },
    {
      "cell_type": "code",
      "source": [
        "for 숫자 in [0,1,2,3,4]:\n",
        "  print(숫자)"
      ],
      "metadata": {
        "colab": {
          "base_uri": "https://localhost:8080/"
        },
        "id": "E9RpDki8hwhL",
        "outputId": "715a2721-b24f-4a9b-f510-ba57e6c34ba4"
      },
      "execution_count": null,
      "outputs": [
        {
          "output_type": "stream",
          "name": "stdout",
          "text": [
            "0\n",
            "1\n",
            "2\n",
            "3\n",
            "4\n"
          ]
        }
      ]
    },
    {
      "cell_type": "code",
      "source": [
        "레인지 = range(10)\n",
        "print(레인지)"
      ],
      "metadata": {
        "colab": {
          "base_uri": "https://localhost:8080/"
        },
        "id": "9bxYlw-niXf_",
        "outputId": "24c49c3c-6663-4876-d8cf-57eb128e2f5d"
      },
      "execution_count": null,
      "outputs": [
        {
          "output_type": "stream",
          "name": "stdout",
          "text": [
            "range(0, 10)\n"
          ]
        }
      ]
    },
    {
      "cell_type": "code",
      "source": [
        "for 숫자 in range(10):\n",
        "  if 숫자%2 == 1:\n",
        "    print(숫자)"
      ],
      "metadata": {
        "colab": {
          "base_uri": "https://localhost:8080/"
        },
        "id": "wR1vERAEilPr",
        "outputId": "79357855-4ec2-4365-adbe-4e2e910c61c3"
      },
      "execution_count": null,
      "outputs": [
        {
          "output_type": "stream",
          "name": "stdout",
          "text": [
            "1\n",
            "3\n",
            "5\n",
            "7\n",
            "9\n"
          ]
        }
      ]
    },
    {
      "cell_type": "code",
      "source": [
        "for 숫자 in range(1,10):\n",
        "  for 숫자2 in range(1,5):\n",
        "    print(숫자, 숫자2)"
      ],
      "metadata": {
        "id": "8UvCLidkjIyY"
      },
      "execution_count": null,
      "outputs": []
    },
    {
      "cell_type": "code",
      "source": [
        "for 숫자 in range(1,10):\n",
        "  for 숫자2 in range(1,10):\n",
        "    print(숫자,\"X\", 숫자2, \"=\", 숫자*숫자2)"
      ],
      "metadata": {
        "id": "j3fiEstBjbjp"
      },
      "execution_count": null,
      "outputs": []
    },
    {
      "cell_type": "code",
      "source": [
        "#숫자 입력받기, 입력받은수의 2,3,4,5,6,7,8,9 곱한값 출력하기, 0을 입력하면 종료\n",
        "while True:\n",
        "  곱하는수 = input()\n",
        "  입력수 = int(곱하는수)\n",
        "  if 입력수==0:\n",
        "      break\n",
        "  if 입력수<0 or 입력수>9:\n",
        "      print(\"1~9까지만 가능함\")\n",
        "      continue\n",
        "  for 숫자 in range(1,10):\n",
        "    print(입력수, \"X\", 숫자, \"=\",입력수*숫자)\n",
        " \n",
        "\n"
      ],
      "metadata": {
        "colab": {
          "base_uri": "https://localhost:8080/"
        },
        "id": "MQQF74KplCo7",
        "outputId": "e957ff0b-1533-49a1-acbe-b575e1073a47"
      },
      "execution_count": null,
      "outputs": [
        {
          "name": "stdout",
          "output_type": "stream",
          "text": [
            "2\n",
            "2 X 1 = 2\n",
            "2 X 2 = 4\n",
            "2 X 3 = 6\n",
            "2 X 4 = 8\n",
            "2 X 5 = 10\n",
            "2 X 6 = 12\n",
            "2 X 7 = 14\n",
            "2 X 8 = 16\n",
            "2 X 9 = 18\n",
            "11\n",
            "1~9까지만 가능함\n",
            "0\n"
          ]
        }
      ]
    }
  ]
}